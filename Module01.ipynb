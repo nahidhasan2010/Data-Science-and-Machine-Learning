{
  "cells": [
    {
      "cell_type": "markdown",
      "metadata": {
        "id": "view-in-github",
        "colab_type": "text"
      },
      "source": [
        "<a href=\"https://colab.research.google.com/github/nahidhasan2010/Data-Science-and-Machine-Learning/blob/main/Module01.ipynb\" target=\"_parent\"><img src=\"https://colab.research.google.com/assets/colab-badge.svg\" alt=\"Open In Colab\"/></a>"
      ]
    },
    {
      "cell_type": "markdown",
      "source": [
        "# Variable and Data type"
      ],
      "metadata": {
        "id": "n2KQScefY1rs"
      }
    },
    {
      "cell_type": "code",
      "source": [
        "x = 24\n",
        "name = \"Nahid\"\n",
        "y = 2.4\n",
        "boolean = True\n",
        "\n",
        "print(\"value of x is : \",x)\n",
        "print(type(x))\n",
        "\n",
        "print(\"My name is : \"+name)\n",
        "print(type(name))\n",
        "\n",
        "print(\"Value of y is : \",y)\n",
        "print(type(y))\n",
        "\n",
        "print(\"value of boolean is : \",boolean)\n",
        "print(type(boolean))"
      ],
      "metadata": {
        "id": "S8yuLY4WaFFb",
        "outputId": "6def44d0-0c53-484e-cfca-87b52fd40697",
        "colab": {
          "base_uri": "https://localhost:8080/"
        }
      },
      "execution_count": 9,
      "outputs": [
        {
          "output_type": "stream",
          "name": "stdout",
          "text": [
            "value of x is :  24\n",
            "<class 'int'>\n",
            "My name is : Nahid\n",
            "<class 'str'>\n",
            "Value of y is :  2.4\n",
            "<class 'float'>\n",
            "value of boolean is :  True\n",
            "<class 'bool'>\n"
          ]
        }
      ]
    },
    {
      "cell_type": "markdown",
      "source": [
        "Concetanition"
      ],
      "metadata": {
        "id": "cTfGKA7Bbz7O"
      }
    },
    {
      "cell_type": "code",
      "source": [
        "first_name=\"Nahid\"\n",
        "last_name=\"Hasan\"\n",
        "print(\"First name : \",first_name,\"\\nLast name : \",last_name)\n",
        "\n",
        "full_name=first_name+\" \"+last_name\n",
        "print(\"Full name: \",full_name)"
      ],
      "metadata": {
        "id": "8Q2caR4Bb65B",
        "outputId": "d8e4ba46-09e3-482c-d9b4-d182dcd6eb9a",
        "colab": {
          "base_uri": "https://localhost:8080/"
        }
      },
      "execution_count": 16,
      "outputs": [
        {
          "output_type": "stream",
          "name": "stdout",
          "text": [
            "First name :  Nahid \n",
            "Last name :  Hasan\n",
            "Full name:  Nahid Hasan\n"
          ]
        }
      ]
    },
    {
      "cell_type": "markdown",
      "source": [
        "# List and Tuple"
      ],
      "metadata": {
        "id": "xjPo_fCNdGCy"
      }
    },
    {
      "cell_type": "code",
      "source": [
        "my_list=[10,23,\"Nahid Hasan\",3.4,True]\n",
        "print(my_list)\n",
        "print(type(my_list))\n",
        "print(\"Third value of list is :\",my_list[2])\n",
        "print(\"Printing list elements through loop:\")\n",
        "x=1\n",
        "for i in my_list:\n",
        "  print(f\"{x} element is:\",i)\n",
        "  x=x+1"
      ],
      "metadata": {
        "id": "EynfebDJcdVr",
        "outputId": "c16ecbcd-6330-4574-c9d2-1a1469b77e44",
        "colab": {
          "base_uri": "https://localhost:8080/"
        }
      },
      "execution_count": 24,
      "outputs": [
        {
          "output_type": "stream",
          "name": "stdout",
          "text": [
            "[10, 23, 'Nahid Hasan', 3.4, True]\n",
            "<class 'list'>\n",
            "Third value of list is : Nahid Hasan\n",
            "Printing list elements through loop:\n",
            "1 element is: 10\n",
            "2 element is: 23\n",
            "3 element is: Nahid Hasan\n",
            "4 element is: 3.4\n",
            "5 element is: True\n"
          ]
        }
      ]
    },
    {
      "cell_type": "code",
      "source": [
        "tup=(10,203,0.4,\"Nahid Hasan\",True,3.4)\n",
        "print(tup)\n",
        "print(type(tup))\n",
        "print(\"First value of tuple is :\",tup[0])"
      ],
      "metadata": {
        "id": "kziv8zdBdXTg",
        "outputId": "df7a7328-d394-4561-b49b-bd02e87fe27a",
        "colab": {
          "base_uri": "https://localhost:8080/"
        }
      },
      "execution_count": 26,
      "outputs": [
        {
          "output_type": "stream",
          "name": "stdout",
          "text": [
            "(10, 203, 0.4, 'Nahid Hasan', True, 3.4)\n",
            "<class 'tuple'>\n",
            "First value of tuple is : 10\n"
          ]
        }
      ]
    },
    {
      "cell_type": "code",
      "source": [
        "number= range(5)\n",
        "print(number)\n",
        "print(type(range))\n",
        "for i in number:\n",
        "  print(i)"
      ],
      "metadata": {
        "id": "p8jUC2C8flST",
        "outputId": "bc7203ac-971f-4faf-d249-d8b3acf0b197",
        "colab": {
          "base_uri": "https://localhost:8080/"
        }
      },
      "execution_count": 29,
      "outputs": [
        {
          "output_type": "stream",
          "name": "stdout",
          "text": [
            "range(0, 5)\n",
            "<class 'type'>\n",
            "0\n",
            "1\n",
            "2\n",
            "3\n",
            "4\n"
          ]
        }
      ]
    },
    {
      "cell_type": "code",
      "source": [
        "x=1\n",
        "for i in range(2,11,2):\n",
        "  print(f\"{x} Even number between (1-10) : {i}\")\n",
        "  x=x+1"
      ],
      "metadata": {
        "id": "iDTKYRpyf7JR",
        "outputId": "f0ea0a04-a842-44a6-df4d-d488cc277bf4",
        "colab": {
          "base_uri": "https://localhost:8080/"
        }
      },
      "execution_count": 32,
      "outputs": [
        {
          "output_type": "stream",
          "name": "stdout",
          "text": [
            "1 Even number between (1-10) : 2\n",
            "2 Even number between (1-10) : 4\n",
            "3 Even number between (1-10) : 6\n",
            "4 Even number between (1-10) : 8\n",
            "5 Even number between (1-10) : 10\n"
          ]
        }
      ]
    },
    {
      "cell_type": "code",
      "source": [
        "my_set={1,2,3,4,5,\"Nahid Hasan\"}\n",
        "print(my_set)\n",
        "print(type(my_set))\n",
        "#print(my_set[0])"
      ],
      "metadata": {
        "id": "reRJ6CoqggW6",
        "outputId": "2d1f5eda-fa90-45ed-b484-3179ca301618",
        "colab": {
          "base_uri": "https://localhost:8080/"
        }
      },
      "execution_count": 35,
      "outputs": [
        {
          "output_type": "stream",
          "name": "stdout",
          "text": [
            "{1, 2, 3, 4, 5, 'Nahid Hasan'}\n",
            "<class 'set'>\n"
          ]
        }
      ]
    },
    {
      "cell_type": "code",
      "source": [
        "person={\n",
        "    \"Name\" : \"Nahid Hasan\",\n",
        "    \"Age\" : 24,\n",
        "    \"Country\" : \"Bangladesh\"\n",
        "}\n",
        "print(person)\n",
        "print(type(person))\n",
        "print(person[\"Name\"])\n",
        "\n"
      ],
      "metadata": {
        "id": "qz93yrXLhnBh",
        "outputId": "36041911-2958-4c30-d29b-9eeef96f26d0",
        "colab": {
          "base_uri": "https://localhost:8080/"
        }
      },
      "execution_count": 37,
      "outputs": [
        {
          "output_type": "stream",
          "name": "stdout",
          "text": [
            "{'Name': 'Nahid Hasan', 'Age': 24, 'Country': 'Bangladesh'}\n",
            "<class 'dict'>\n",
            "Nahid Hasan\n"
          ]
        }
      ]
    },
    {
      "cell_type": "markdown",
      "source": [
        "# Dynamic typing in python"
      ],
      "metadata": {
        "id": "5Hx0LhBvjP7p"
      }
    },
    {
      "cell_type": "code",
      "source": [
        "var = 10\n",
        "print(\"My type is\",type(var))\n",
        "var=\"Nahid Hasan\"\n",
        "print(\"My type is\",type(var))"
      ],
      "metadata": {
        "id": "eYUphqRRiX_2",
        "outputId": "1ed925e4-9aa9-4a02-a419-f453112dc8ec",
        "colab": {
          "base_uri": "https://localhost:8080/"
        }
      },
      "execution_count": 42,
      "outputs": [
        {
          "output_type": "stream",
          "name": "stdout",
          "text": [
            "My type is <class 'int'>\n",
            "My type is <class 'str'>\n"
          ]
        }
      ]
    },
    {
      "cell_type": "markdown",
      "source": [
        "# If Else in python"
      ],
      "metadata": {
        "id": "Q5kQ4Q0FkFP6"
      }
    },
    {
      "cell_type": "code",
      "source": [
        "age = int(input(\"Enter your age: \"))\n",
        "if age >= 18:\n",
        "  print(\"You are eligable for vote!\")\n",
        "else:\n",
        "  print(\"You are not eligible for vote!\")"
      ],
      "metadata": {
        "id": "qN5WPPW4jhhP",
        "outputId": "b292dab4-634b-4c9c-c689-1c4f7053ad0b",
        "colab": {
          "base_uri": "https://localhost:8080/"
        }
      },
      "execution_count": 45,
      "outputs": [
        {
          "output_type": "stream",
          "name": "stdout",
          "text": [
            "Enter your age: 17\n",
            "You are not eligible for vote!\n"
          ]
        }
      ]
    },
    {
      "cell_type": "markdown",
      "source": [
        "# For Loop"
      ],
      "metadata": {
        "id": "72-z9E0Fl3nV"
      }
    },
    {
      "cell_type": "code",
      "source": [
        "print(\"For loop in list:\")\n",
        "number=[10,203,4,40,40]\n",
        "for i in number:\n",
        "  print(i)\n",
        "print(\"For loop using range:\")\n",
        "for i in range(5):\n",
        "  print(i)\n",
        "print(\"For loop in string:\")\n",
        "for char in \"Nahid Hasan\":\n",
        "  print(char)\n"
      ],
      "metadata": {
        "id": "PiMnAtFFkuLv",
        "outputId": "f066ac6c-cbad-4dda-c604-f440c99d0c30",
        "colab": {
          "base_uri": "https://localhost:8080/"
        }
      },
      "execution_count": 48,
      "outputs": [
        {
          "output_type": "stream",
          "name": "stdout",
          "text": [
            "For loop in list:\n",
            "10\n",
            "203\n",
            "4\n",
            "40\n",
            "40\n",
            "For loop using range:\n",
            "0\n",
            "1\n",
            "2\n",
            "3\n",
            "4\n",
            "For loop in string:\n",
            "N\n",
            "a\n",
            "h\n",
            "i\n",
            "d\n",
            " \n",
            "H\n",
            "a\n",
            "s\n",
            "a\n",
            "n\n"
          ]
        }
      ]
    },
    {
      "cell_type": "markdown",
      "source": [
        "# While loop"
      ],
      "metadata": {
        "id": "HunmrFNGmxxc"
      }
    },
    {
      "cell_type": "code",
      "source": [
        "count = 1\n",
        "while count <= 5:\n",
        "  print(\"Nahid\")\n",
        "  count = count + 1\n"
      ],
      "metadata": {
        "id": "SjqsumLjmMFP",
        "outputId": "012ad252-bb75-47ae-8e2f-e248a043f113",
        "colab": {
          "base_uri": "https://localhost:8080/"
        }
      },
      "execution_count": 52,
      "outputs": [
        {
          "output_type": "stream",
          "name": "stdout",
          "text": [
            "Nahid\n",
            "Nahid\n",
            "Nahid\n",
            "Nahid\n",
            "Nahid\n"
          ]
        }
      ]
    },
    {
      "cell_type": "markdown",
      "source": [
        "# Break and Continue"
      ],
      "metadata": {
        "id": "K2kAce4_nWdU"
      }
    },
    {
      "cell_type": "code",
      "source": [
        "for i in range(1,11):\n",
        "  if i == 11:\n",
        "    break\n",
        "  elif i == 5:\n",
        "    continue\n",
        "  print(i)\n"
      ],
      "metadata": {
        "id": "CIdjTzFFnFWX",
        "outputId": "16751a00-c591-4600-d3a4-b65f25b8f7c1",
        "colab": {
          "base_uri": "https://localhost:8080/"
        }
      },
      "execution_count": 56,
      "outputs": [
        {
          "output_type": "stream",
          "name": "stdout",
          "text": [
            "1\n",
            "2\n",
            "3\n",
            "4\n",
            "6\n",
            "7\n",
            "8\n",
            "9\n",
            "10\n"
          ]
        }
      ]
    },
    {
      "cell_type": "markdown",
      "source": [
        "# String\n"
      ],
      "metadata": {
        "id": "7z5iSM-loUjX"
      }
    },
    {
      "cell_type": "code",
      "source": [
        "my_string = \"Nahid Hasan Emon\"\n",
        "print(\"My name is :\",my_string)\n",
        "print(\"My first name is :\",my_string[0:6])"
      ],
      "metadata": {
        "id": "ERL2Sc2gn2vH",
        "outputId": "34bd613e-f634-4944-e297-0bd4784ff451",
        "colab": {
          "base_uri": "https://localhost:8080/"
        }
      },
      "execution_count": 58,
      "outputs": [
        {
          "output_type": "stream",
          "name": "stdout",
          "text": [
            "My name is : Nahid Hasan Emon\n",
            "My first name is : Nahid \n"
          ]
        }
      ]
    },
    {
      "cell_type": "code",
      "source": [
        "print(\"Upper case :\",my_string.upper())\n",
        "print(\"Lower case :\",my_string.lower())\n"
      ],
      "metadata": {
        "id": "aZ0G9cbNov2W",
        "outputId": "9d2fa3e7-6b50-44a3-8023-7c34ba11e037",
        "colab": {
          "base_uri": "https://localhost:8080/"
        }
      },
      "execution_count": 59,
      "outputs": [
        {
          "output_type": "stream",
          "name": "stdout",
          "text": [
            "Upper case : NAHID HASAN EMON\n",
            "Lower case : nahid hasan emon\n"
          ]
        }
      ]
    },
    {
      "cell_type": "code",
      "source": [
        "fruit= \"Mango,Apple,Banana,Orange\"\n",
        "split_list= fruit.split(\",\")\n",
        "print(split_list)"
      ],
      "metadata": {
        "id": "ybDX3Z04pVxu",
        "outputId": "4576e628-c8ac-4fe3-e0a7-ca60dc417442",
        "colab": {
          "base_uri": "https://localhost:8080/"
        }
      },
      "execution_count": 61,
      "outputs": [
        {
          "output_type": "stream",
          "name": "stdout",
          "text": [
            "['Mango', 'Apple', 'Banana', 'Orange']\n"
          ]
        }
      ]
    },
    {
      "cell_type": "code",
      "source": [
        "my_string=\"Nahid Hasan Emon\"\n",
        "print(\"Orgial String :\",my_string)\n",
        "my_string=my_string.replace(\"Emon\",\"Shuvo\")\n",
        "print(\"New string :\",my_string)"
      ],
      "metadata": {
        "id": "q_SReKtJppwm",
        "outputId": "661d4290-6c9e-4f9f-d123-333abfd5a866",
        "colab": {
          "base_uri": "https://localhost:8080/"
        }
      },
      "execution_count": 63,
      "outputs": [
        {
          "output_type": "stream",
          "name": "stdout",
          "text": [
            "Orgial String : Nahid Hasan Emon\n",
            "New string : Nahid Hasan Shuvo\n"
          ]
        }
      ]
    },
    {
      "cell_type": "markdown",
      "source": [
        "# Assignment of Ostad"
      ],
      "metadata": {
        "id": "81si9j1bqxbS"
      }
    },
    {
      "cell_type": "code",
      "source": [
        "# Sum of all odd number 0 to 100\n",
        "sum = 0\n",
        "for i in range(101):\n",
        "  if i % 2 != 0:\n",
        "    sum = sum + i\n",
        "print(\"Sum of all odd number (0-100):\",sum)"
      ],
      "metadata": {
        "id": "tIhQII2RqRbt",
        "outputId": "ee5cc9dc-b86f-4a60-aa58-388f21cc475b",
        "colab": {
          "base_uri": "https://localhost:8080/"
        }
      },
      "execution_count": 67,
      "outputs": [
        {
          "output_type": "stream",
          "name": "stdout",
          "text": [
            "Sum of all odd number (0-100): 2500\n"
          ]
        }
      ]
    },
    {
      "cell_type": "code",
      "source": [
        "mark= int(input(\"Enter your mark: \"))\n",
        "if mark >= 90 and mark <= 100:\n",
        "  print(\"A\")\n",
        "elif mark >= 80 and mark <= 89:\n",
        "  print(\"B\")\n",
        "elif mark >= 70 and mark <= 79:\n",
        "  print(\"C\")\n",
        "elif mark >= 60 and mark <= 69:\n",
        "  print(\"D\")\n",
        "elif mark >= 50 and mark <=59:\n",
        "  print(\"E\")\n",
        "elif mark >= 40 and mark <= 49:\n",
        "  print(\"E-\")\n",
        "else:\n",
        "  print(\"Failed\")\n"
      ],
      "metadata": {
        "id": "1_3vxE50swZd",
        "outputId": "4bd8878a-4df9-4246-d4a4-c2e3051c43a2",
        "colab": {
          "base_uri": "https://localhost:8080/"
        }
      },
      "execution_count": 69,
      "outputs": [
        {
          "output_type": "stream",
          "name": "stdout",
          "text": [
            "Enter your mark: 39\n",
            "Failed\n"
          ]
        }
      ]
    },
    {
      "cell_type": "code",
      "source": [],
      "metadata": {
        "id": "aLlmAB6_t9dN"
      },
      "execution_count": null,
      "outputs": []
    }
  ],
  "metadata": {
    "colab": {
      "name": "Welcome To Colab",
      "provenance": [],
      "toc_visible": true,
      "include_colab_link": true
    },
    "kernelspec": {
      "display_name": "Python 3",
      "name": "python3"
    }
  },
  "nbformat": 4,
  "nbformat_minor": 0
}