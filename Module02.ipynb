{
  "cells": [
    {
      "cell_type": "markdown",
      "metadata": {
        "id": "view-in-github",
        "colab_type": "text"
      },
      "source": [
        "<a href=\"https://colab.research.google.com/github/nahidhasan2010/Data-Science-and-Machine-Learning/blob/main/Module02.ipynb\" target=\"_parent\"><img src=\"https://colab.research.google.com/assets/colab-badge.svg\" alt=\"Open In Colab\"/></a>"
      ]
    },
    {
      "cell_type": "markdown",
      "source": [
        "# List"
      ],
      "metadata": {
        "id": "jLFrSSKn0pXs"
      }
    },
    {
      "cell_type": "code",
      "source": [
        "grocery = [\"Applle\",\"Salt\",\"Paper\",\"Dates\",\"Carrots\"]\n",
        "print(\"List of grocery:\",grocery)\n",
        "\n",
        "print(\"First item:\",grocery[0])\n",
        "print(\"Last item:\",grocery[-1])\n",
        "\n",
        "grocery[2]=\"Cookies\"\n",
        "print(\"Updated grocery :\",grocery)"
      ],
      "metadata": {
        "id": "x5NUzPpEz_sH",
        "outputId": "3f1a94a1-90fb-4e95-faa9-1728b4e7a973",
        "colab": {
          "base_uri": "https://localhost:8080/"
        }
      },
      "execution_count": 3,
      "outputs": [
        {
          "output_type": "stream",
          "name": "stdout",
          "text": [
            "List of grocery: ['Applle', 'Salt', 'Paper', 'Dates', 'Carrots']\n",
            "First item: Applle\n",
            "Last item: Carrots\n",
            "Updated grocery : ['Applle', 'Salt', 'Cookies', 'Dates', 'Carrots']\n"
          ]
        }
      ]
    },
    {
      "cell_type": "markdown",
      "source": [
        "# List Method"
      ],
      "metadata": {
        "id": "gYyBhnR7cG39"
      }
    },
    {
      "cell_type": "code",
      "source": [
        "fruit = [\"Apple\",\"Banana\",\"Dates\",\"Mango\",\"Cherry\",\"Cocunut\"]\n",
        "fruit.append(\"Jackfruit\")\n",
        "print(\"Updated list:\",fruit)"
      ],
      "metadata": {
        "colab": {
          "base_uri": "https://localhost:8080/"
        },
        "id": "3VXBN-FEbbaS",
        "outputId": "7933bd48-60b7-41c5-a29c-3c1b2eccd1a3"
      },
      "execution_count": 4,
      "outputs": [
        {
          "output_type": "stream",
          "name": "stdout",
          "text": [
            "Updated list: ['Apple', 'Banana', 'Dates', 'Mango', 'Cherry', 'Cocunut', 'Jackfruit']\n"
          ]
        }
      ]
    },
    {
      "cell_type": "code",
      "source": [
        "fruit.insert(2,\"Guava\")\n",
        "print(\"Updated list :\",fruit)"
      ],
      "metadata": {
        "colab": {
          "base_uri": "https://localhost:8080/"
        },
        "id": "58H00Nd1cnIR",
        "outputId": "a51a37a7-2f68-48dd-ee70-a8b7289a834b"
      },
      "execution_count": 5,
      "outputs": [
        {
          "output_type": "stream",
          "name": "stdout",
          "text": [
            "Updated list : ['Apple', 'Banana', 'Guava', 'Dates', 'Mango', 'Cherry', 'Cocunut', 'Jackfruit']\n"
          ]
        }
      ]
    },
    {
      "cell_type": "code",
      "source": [
        "fruit.remove(\"Guava\")\n",
        "print(\"Updated list :\",fruit)"
      ],
      "metadata": {
        "colab": {
          "base_uri": "https://localhost:8080/"
        },
        "id": "6o-FJwW_c4Ne",
        "outputId": "a4b0f9f5-e472-4c45-dded-4cfc19bc7a60"
      },
      "execution_count": 6,
      "outputs": [
        {
          "output_type": "stream",
          "name": "stdout",
          "text": [
            "Updated list : ['Apple', 'Banana', 'Dates', 'Mango', 'Cherry', 'Cocunut', 'Jackfruit']\n"
          ]
        }
      ]
    },
    {
      "cell_type": "code",
      "source": [
        "fruit.pop()\n",
        "print(\"Updated list :\",fruit)"
      ],
      "metadata": {
        "colab": {
          "base_uri": "https://localhost:8080/"
        },
        "id": "l_eZNqUfdGP9",
        "outputId": "cc339caa-9809-4e50-b48a-c9970b8140dd"
      },
      "execution_count": 7,
      "outputs": [
        {
          "output_type": "stream",
          "name": "stdout",
          "text": [
            "Updated list : ['Apple', 'Banana', 'Dates', 'Mango', 'Cherry', 'Cocunut']\n"
          ]
        }
      ]
    },
    {
      "cell_type": "code",
      "source": [
        "fruit.pop(0)\n",
        "print(\"Updated list :\",fruit)"
      ],
      "metadata": {
        "colab": {
          "base_uri": "https://localhost:8080/"
        },
        "id": "RHUVst_LdN8N",
        "outputId": "614af227-e67a-44ec-9608-ea9a6ec80722"
      },
      "execution_count": 8,
      "outputs": [
        {
          "output_type": "stream",
          "name": "stdout",
          "text": [
            "Updated list : ['Banana', 'Dates', 'Mango', 'Cherry', 'Cocunut']\n"
          ]
        }
      ]
    },
    {
      "cell_type": "code",
      "source": [
        "fruit.sort()\n",
        "print(fruit)"
      ],
      "metadata": {
        "colab": {
          "base_uri": "https://localhost:8080/"
        },
        "id": "xxkZw8xfdY6V",
        "outputId": "6bb3ffd7-10e8-4eb7-8837-8e3fc347e14c"
      },
      "execution_count": 10,
      "outputs": [
        {
          "output_type": "stream",
          "name": "stdout",
          "text": [
            "['Banana', 'Cherry', 'Cocunut', 'Dates', 'Mango']\n"
          ]
        }
      ]
    },
    {
      "cell_type": "code",
      "source": [
        "fruit.reverse()\n",
        "print(fruit)"
      ],
      "metadata": {
        "colab": {
          "base_uri": "https://localhost:8080/"
        },
        "id": "QoLKN_sQdfx1",
        "outputId": "712cf58a-d022-476a-bb94-a30f19046950"
      },
      "execution_count": 11,
      "outputs": [
        {
          "output_type": "stream",
          "name": "stdout",
          "text": [
            "['Mango', 'Dates', 'Cocunut', 'Cherry', 'Banana']\n"
          ]
        }
      ]
    },
    {
      "cell_type": "code",
      "source": [
        "x=fruit.count(\"Mango\")\n",
        "print(x)"
      ],
      "metadata": {
        "colab": {
          "base_uri": "https://localhost:8080/"
        },
        "id": "FdKnU71VdxnW",
        "outputId": "68a44fe9-d3f6-4419-8694-e7fc5a977b54"
      },
      "execution_count": 12,
      "outputs": [
        {
          "output_type": "stream",
          "name": "stdout",
          "text": [
            "1\n"
          ]
        }
      ]
    },
    {
      "cell_type": "markdown",
      "source": [
        "# Dictionary"
      ],
      "metadata": {
        "id": "5-uphZ2IehzG"
      }
    },
    {
      "cell_type": "code",
      "source": [
        "info={\n",
        "    \"Name\": \"Nahid Hasan\",\n",
        "    \"Age\": 24,\n",
        "    \"Email\": \"nahidshuvo2010@gmail.com\"\n",
        "}\n",
        "\n",
        "print(f\"Name : {info['Name']}\")\n",
        "print(f\"Age : {info['Age']}\")"
      ],
      "metadata": {
        "colab": {
          "base_uri": "https://localhost:8080/"
        },
        "id": "eg9l9oGheAiW",
        "outputId": "e3af7cbf-42e8-4fe8-c69f-104e457e7b0f"
      },
      "execution_count": 15,
      "outputs": [
        {
          "output_type": "stream",
          "name": "stdout",
          "text": [
            "Name : Nahid Hasan\n",
            "Age : 24\n"
          ]
        }
      ]
    },
    {
      "cell_type": "code",
      "source": [
        "info[\"Country\"]=\"Bangladesh\"\n",
        "print(f\"Updated dictionary : {info}\")"
      ],
      "metadata": {
        "colab": {
          "base_uri": "https://localhost:8080/"
        },
        "id": "trD1sq5-fOD4",
        "outputId": "c8aa45b8-d6cd-491b-ab64-7b871897a353"
      },
      "execution_count": 16,
      "outputs": [
        {
          "output_type": "stream",
          "name": "stdout",
          "text": [
            "Updated dictionary : {'Name': 'Nahid Hasan', 'Age': 24, 'Email': 'nahidshuvo2010@gmail.com', 'Country': 'Bangladesh'}\n"
          ]
        }
      ]
    },
    {
      "cell_type": "code",
      "source": [
        "del info[\"Country\"]\n",
        "print(f\"Updated dictionary : {info}\")"
      ],
      "metadata": {
        "id": "bIeRdpiogsOV",
        "outputId": "d0d73546-ca0f-4245-f683-248681055897",
        "colab": {
          "base_uri": "https://localhost:8080/"
        }
      },
      "execution_count": 17,
      "outputs": [
        {
          "output_type": "stream",
          "name": "stdout",
          "text": [
            "Updated dictionary : {'Name': 'Nahid Hasan', 'Age': 24, 'Email': 'nahidshuvo2010@gmail.com'}\n"
          ]
        }
      ]
    },
    {
      "cell_type": "code",
      "source": [
        "key=info.keys()\n",
        "value=info.values()\n",
        "pair=info.items()\n",
        "\n",
        "print(key)\n",
        "print(value)\n",
        "print(pair)"
      ],
      "metadata": {
        "id": "ZVW0dSdVg690",
        "outputId": "48a7ba38-256a-4764-b134-49a83ddafe20",
        "colab": {
          "base_uri": "https://localhost:8080/"
        }
      },
      "execution_count": 18,
      "outputs": [
        {
          "output_type": "stream",
          "name": "stdout",
          "text": [
            "dict_keys(['Name', 'Age', 'Email'])\n",
            "dict_values(['Nahid Hasan', 24, 'nahidshuvo2010@gmail.com'])\n",
            "dict_items([('Name', 'Nahid Hasan'), ('Age', 24), ('Email', 'nahidshuvo2010@gmail.com')])\n"
          ]
        }
      ]
    },
    {
      "cell_type": "markdown",
      "source": [
        "# Function"
      ],
      "metadata": {
        "id": "5hUGdBHvhnRF"
      }
    },
    {
      "cell_type": "code",
      "source": [
        "def welcome():\n",
        "  print(\"Hey, Welcome!\")\n",
        "\n",
        "welcome()"
      ],
      "metadata": {
        "id": "j7LHjy2vha4t",
        "outputId": "3e56fc68-0c2a-4f1e-93b9-359cc44813f0",
        "colab": {
          "base_uri": "https://localhost:8080/"
        }
      },
      "execution_count": 19,
      "outputs": [
        {
          "output_type": "stream",
          "name": "stdout",
          "text": [
            "Hey, Welcome!\n"
          ]
        }
      ]
    },
    {
      "cell_type": "code",
      "source": [
        "def sum(x,y):\n",
        "  print(f\"Sum of {x} and {y} : {x+y}\")\n",
        "\n",
        "sum(10,12)\n",
        "sum(12,12)"
      ],
      "metadata": {
        "id": "sM6zre8-h5_V",
        "outputId": "d3885071-857b-4371-e04c-fea56ac1cc91",
        "colab": {
          "base_uri": "https://localhost:8080/"
        }
      },
      "execution_count": 21,
      "outputs": [
        {
          "output_type": "stream",
          "name": "stdout",
          "text": [
            "Sum of 10 and 12 : 22\n",
            "Sum of 12 and 12 : 24\n"
          ]
        }
      ]
    },
    {
      "cell_type": "code",
      "source": [
        "def info(name,age,country=\"Bangladesh\"):\n",
        "  print(f\"Name : {name}\")\n",
        "  print(f\"Age : {age}\")\n",
        "  print(f\"Country : {country}\\n\")\n",
        "\n",
        "info(\"Nahid Hasan\", 24 , \"Bangladesh\")\n",
        "\n",
        "info(name=\"Nahid Hasam\",country=\"Bangladesh\",age=24)\n",
        "\n",
        "info(name=\"Nahid Hasan\",age=24)\n"
      ],
      "metadata": {
        "id": "0D16yF_ViRIe",
        "outputId": "b6c54e3f-6952-4d3c-d8f8-586ae0232260",
        "colab": {
          "base_uri": "https://localhost:8080/"
        }
      },
      "execution_count": 27,
      "outputs": [
        {
          "output_type": "stream",
          "name": "stdout",
          "text": [
            "Name : Nahid Hasan\n",
            "Age : 24\n",
            "Country : Bangladesh\n",
            "\n",
            "Name : Nahid Hasam\n",
            "Age : 24\n",
            "Country : Bangladesh\n",
            "\n",
            "Name : Nahid Hasan\n",
            "Age : 24\n",
            "Country : Bangladesh\n",
            "\n"
          ]
        }
      ]
    },
    {
      "cell_type": "code",
      "source": [
        "def discounted_price(price,discount=0.1):\n",
        "  final_price=price-price*discount\n",
        "  return final_price\n",
        "\n",
        "price=200\n",
        "x=discounted_price(price)\n",
        "print(\"Orginal price :\",price)\n",
        "print(\"Discounted price :\",x)"
      ],
      "metadata": {
        "id": "bcHqfPUVjRh1",
        "outputId": "45c8a21b-aa90-4782-d7cf-83b59840b5c6",
        "colab": {
          "base_uri": "https://localhost:8080/"
        }
      },
      "execution_count": 28,
      "outputs": [
        {
          "output_type": "stream",
          "name": "stdout",
          "text": [
            "Orginal price : 200\n",
            "Discounted price : 180.0\n"
          ]
        }
      ]
    },
    {
      "cell_type": "markdown",
      "source": [
        "# Set"
      ],
      "metadata": {
        "id": "q2GkSq2onQ8j"
      }
    },
    {
      "cell_type": "code",
      "source": [
        "A= {1,2,3,4}\n",
        "B={3,4,5,6}"
      ],
      "metadata": {
        "id": "iuJv66_MloFW"
      },
      "execution_count": 29,
      "outputs": []
    },
    {
      "cell_type": "code",
      "source": [
        "print(\"Intersection :\",A.intersection(B))\n",
        "print(\"Union :\",A.union(B))\n",
        "print(\"Difference :\",A.difference(B))"
      ],
      "metadata": {
        "id": "QGqai34WnZ46",
        "outputId": "a9a22df9-8fd8-4277-cfb9-adae0871a32c",
        "colab": {
          "base_uri": "https://localhost:8080/"
        }
      },
      "execution_count": 31,
      "outputs": [
        {
          "output_type": "stream",
          "name": "stdout",
          "text": [
            "Intersection : {3, 4}\n",
            "Union : {1, 2, 3, 4, 5, 6}\n",
            "Difference : {1, 2}\n"
          ]
        }
      ]
    },
    {
      "cell_type": "markdown",
      "source": [
        "# Tuple\n"
      ],
      "metadata": {
        "id": "fn2RonNCn6uN"
      }
    },
    {
      "cell_type": "code",
      "source": [
        "tup1=(1,2,3,4)\n",
        "tup2=(5,6,7,\"Nahid Hasan\")\n",
        "\n",
        "print(tup1+tup2)"
      ],
      "metadata": {
        "id": "ULcibAognjKp",
        "outputId": "13467841-05b9-4d8f-fd7a-fd29c192c4c8",
        "colab": {
          "base_uri": "https://localhost:8080/"
        }
      },
      "execution_count": 33,
      "outputs": [
        {
          "output_type": "stream",
          "name": "stdout",
          "text": [
            "(1, 2, 3, 4, 5, 6, 7, 'Nahid Hasan')\n"
          ]
        }
      ]
    },
    {
      "cell_type": "code",
      "source": [
        "a,b,c,d=tup1\n",
        "print(a,b,c,d)"
      ],
      "metadata": {
        "id": "9IOxOpQeoM3V",
        "outputId": "f5b40b85-960c-43b6-b118-474d9436a007",
        "colab": {
          "base_uri": "https://localhost:8080/"
        }
      },
      "execution_count": 34,
      "outputs": [
        {
          "output_type": "stream",
          "name": "stdout",
          "text": [
            "1 2 3 4\n"
          ]
        }
      ]
    },
    {
      "cell_type": "code",
      "source": [
        "print(tup1[0])"
      ],
      "metadata": {
        "id": "YH3KbW1aobIV",
        "outputId": "a0d3783d-6a07-4168-c5f1-3943049c3360",
        "colab": {
          "base_uri": "https://localhost:8080/"
        }
      },
      "execution_count": 35,
      "outputs": [
        {
          "output_type": "stream",
          "name": "stdout",
          "text": [
            "1\n"
          ]
        }
      ]
    },
    {
      "cell_type": "code",
      "source": [
        "def student_details(id):\n",
        "  student=[\n",
        "      {\n",
        "          \"id\":1,\n",
        "          \"name\":\"Nahid Hasan\",\n",
        "          \"age\":24\n",
        "      },\n",
        "      {\n",
        "          \"id\":2,\n",
        "          \"name\": \"Jahid Hasan\",\n",
        "          \"age\":25\n",
        "      },\n",
        "      {\n",
        "          \"id\":3,\n",
        "          \"name\": \"Shahid Hasan\",\n",
        "          \"age\":26\n",
        "      }\n",
        "  ]\n",
        "  for x in student:\n",
        "    if x[\"id\"]==id:\n",
        "      return x[\"name\"],x[\"age\"]\n",
        "\n",
        "name,age=student_details(2)\n",
        "print(f\"Student name : {name}\")\n",
        "print(f\"Student age : {age}\")\n",
        ""
      ],
      "metadata": {
        "id": "FP2Dpf7WomVZ",
        "outputId": "f99d236e-4890-44e8-dbda-8a0e5754b090",
        "colab": {
          "base_uri": "https://localhost:8080/"
        }
      },
      "execution_count": 36,
      "outputs": [
        {
          "output_type": "stream",
          "name": "stdout",
          "text": [
            "Student name : Jahid Hasan\n",
            "Student age : 25\n"
          ]
        }
      ]
    },
    {
      "cell_type": "code",
      "source": [],
      "metadata": {
        "id": "WIi16G_dsF7q"
      },
      "execution_count": null,
      "outputs": []
    }
  ],
  "metadata": {
    "colab": {
      "name": "Welcome To Colab",
      "provenance": [],
      "include_colab_link": true
    },
    "kernelspec": {
      "display_name": "Python 3",
      "name": "python3"
    }
  },
  "nbformat": 4,
  "nbformat_minor": 0
}