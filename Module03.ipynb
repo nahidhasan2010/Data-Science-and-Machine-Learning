{
  "cells": [
    {
      "cell_type": "markdown",
      "metadata": {
        "id": "view-in-github",
        "colab_type": "text"
      },
      "source": [
        "<a href=\"https://colab.research.google.com/github/nahidhasan2010/Data-Science-and-Machine-Learning/blob/main/Module03.ipynb\" target=\"_parent\"><img src=\"https://colab.research.google.com/assets/colab-badge.svg\" alt=\"Open In Colab\"/></a>"
      ]
    },
    {
      "cell_type": "code",
      "source": [
        "class Student:\n",
        "  name = \"Nahid Hasan\"\n",
        "\n",
        "s1=Student()\n",
        "print(s1.name)\n",
        "\n",
        "s2 = Student()\n",
        "print(s2.name)"
      ],
      "metadata": {
        "colab": {
          "base_uri": "https://localhost:8080/"
        },
        "id": "yMWD6ELkbr_i",
        "outputId": "f1bc8cec-2e02-4fe7-f035-2e6b358f8ab0"
      },
      "execution_count": 2,
      "outputs": [
        {
          "output_type": "stream",
          "name": "stdout",
          "text": [
            "Nahid Hasan\n",
            "Nahid Hasan\n"
          ]
        }
      ]
    },
    {
      "cell_type": "code",
      "source": [
        "class Car:\n",
        "  Color = \"Blue\"\n",
        "  Brand = \"Mercedes\"\n",
        "  Year = 2010\n",
        "\n",
        "c1 = Car()\n",
        "\n",
        "print(\"Car brand :\",c1.Brand)\n",
        "print(\"Car color : \",c1.Color)\n",
        "print(\"Car Year :\",c1.Year)"
      ],
      "metadata": {
        "id": "7e-yPukkfbKT",
        "outputId": "d562d85c-d5d5-4bee-c129-e18e01ed7b7d",
        "colab": {
          "base_uri": "https://localhost:8080/"
        }
      },
      "execution_count": 3,
      "outputs": [
        {
          "output_type": "stream",
          "name": "stdout",
          "text": [
            "car brand : Mercedes\n",
            "Car color :  Blue\n",
            "Car Year : 2010\n"
          ]
        }
      ]
    },
    {
      "cell_type": "code",
      "source": [
        "class Student:\n",
        "  #name = \"Nahid Hasan\"\n",
        "  def __init__(self,full_name):\n",
        "    self.name = full_name\n",
        "    print(\"This is constructor\")\n",
        "\n",
        "s1 = Student(\"Nahid Hasan\")\n",
        "print(s1.name)\n",
        "\n",
        "s2 = Student(\"Jahid\")\n",
        "print(s2.name)"
      ],
      "metadata": {
        "id": "ClRtiRV_gavu",
        "outputId": "d9cf84f0-8ae7-4e06-bce9-c2b6c221e5b0",
        "colab": {
          "base_uri": "https://localhost:8080/"
        }
      },
      "execution_count": 11,
      "outputs": [
        {
          "output_type": "stream",
          "name": "stdout",
          "text": [
            "This is constructor\n",
            "Nahid Hasan\n",
            "This is constructor\n",
            "Jahid\n"
          ]
        }
      ]
    },
    {
      "cell_type": "code",
      "source": [
        "class Vehicle:\n",
        "  shop = \"Nahid Car World\"\n",
        "  def __init__(self,owner,brand,color,year):\n",
        "    self.owner=owner\n",
        "    self.brand=brand\n",
        "    self.color=color\n",
        "    self.year=year\n",
        "\n",
        "  def details(self):\n",
        "    print(f\"Car owner : {self.owner}\")\n",
        "    print(f\"Car brand : {self.brand}\")\n",
        "    print(f\"Car color : {self.color}\")\n",
        "    print(f\"Car Year : {self.year}\")\n",
        "    print(f\"Outlet : {self.shop}\")\n",
        "\n",
        "s1 = Vehicle(\"Jahid Hasan\",\"Mercedes\",\"White\",\"2010\")\n",
        "s1.details()"
      ],
      "metadata": {
        "id": "3c55zcGzh1H1",
        "outputId": "2e93b32f-1957-4f75-b347-7d08ea39b62a",
        "colab": {
          "base_uri": "https://localhost:8080/"
        }
      },
      "execution_count": 12,
      "outputs": [
        {
          "output_type": "stream",
          "name": "stdout",
          "text": [
            "Car owner : Jahid Hasan\n",
            "Car brand : Mercedes\n",
            "Car color : White\n",
            "Car Year : 2010\n",
            "Outlet : Nahid Car World\n"
          ]
        }
      ]
    },
    {
      "cell_type": "code",
      "source": [
        "class Book:\n",
        "  def __init__(self,book,author):\n",
        "    self.book=book\n",
        "    self.author=author\n",
        "\n",
        "  def read(self):\n",
        "    print(f\"Reading {self.book} by {self.author}\")\n",
        "\n",
        "book1=Book(\"XYZ\",\"Nahid Hasan\")\n",
        "book1.read()"
      ],
      "metadata": {
        "id": "T1ZZB9bTl3Pr",
        "outputId": "c914cb79-50b5-478f-a831-068b8f3d5158",
        "colab": {
          "base_uri": "https://localhost:8080/"
        }
      },
      "execution_count": 14,
      "outputs": [
        {
          "output_type": "stream",
          "name": "stdout",
          "text": [
            "Reading XYZ by Nahid Hasan\n"
          ]
        }
      ]
    },
    {
      "cell_type": "code",
      "source": [
        "class Person:\n",
        "  def __init__(self,name=\"Nahid Hasan\"):\n",
        "    self.name=name\n",
        "  def details(self):\n",
        "    print(\"My name is :\",self.name)\n",
        "\n",
        "  def add(self):\n",
        "    x=10\n",
        "    y=20\n",
        "    sum=x+y\n",
        "    return sum\n",
        "\n",
        "p1=Person(\"Jahid Hasan\")\n",
        "p1.details()\n",
        "print(f\"Sum is : {p1.add()}\\n\")\n",
        "\n",
        "p2=Person()\n",
        "p2.details()\n"
      ],
      "metadata": {
        "id": "YfAUKKSVm0fy",
        "outputId": "bf66f22c-f5ca-457b-b415-26527d9ab9aa",
        "colab": {
          "base_uri": "https://localhost:8080/"
        }
      },
      "execution_count": 19,
      "outputs": [
        {
          "output_type": "stream",
          "name": "stdout",
          "text": [
            "My name is : Jahid Hasan\n",
            "Sum is : 30\n",
            "\n",
            "My name is : Nahid Hasan\n"
          ]
        }
      ]
    },
    {
      "cell_type": "markdown",
      "source": [
        "# Inheritance"
      ],
      "metadata": {
        "id": "emsdAIj8pVF7"
      }
    },
    {
      "cell_type": "code",
      "source": [
        "class Animal:\n",
        "  def __init__(self,name):\n",
        "    self.name=name\n",
        "  def sound(self):\n",
        "    print(f\"{self.name} makes sound!\")\n",
        "class Cat(Animal):\n",
        "  def sound(self):\n",
        "    print(f\"{self.name} makes meowww!\")\n",
        "\n",
        "generic_animal=Animal(\"Generic Animal\")\n",
        "generic_animal.sound()\n",
        "\n",
        "cat=Cat(\"Cat\")\n",
        "cat.sound()"
      ],
      "metadata": {
        "id": "k8Re3zbNn17C",
        "outputId": "2a7fcc10-292f-4767-b026-7b46608e8d01",
        "colab": {
          "base_uri": "https://localhost:8080/"
        }
      },
      "execution_count": 23,
      "outputs": [
        {
          "output_type": "stream",
          "name": "stdout",
          "text": [
            "Generic Animal makes sound!\n",
            "Cat makes meowww!\n"
          ]
        }
      ]
    },
    {
      "cell_type": "code",
      "source": [
        "class Student:\n",
        "  def __init__(self,physic,chemistry,math):\n",
        "    self.physics=physic\n",
        "    self.chemistry=chemistry\n",
        "    self.math=math\n",
        "  def avg(self):\n",
        "    print(\"Average marke of three subjet is :\",(self.physics+self.chemistry+self.math)/3)\n",
        "\n",
        "s1 = Student(30,40,50)\n",
        "s1.avg()\n"
      ],
      "metadata": {
        "id": "doP9EYTqrWIG",
        "outputId": "c7986409-37b8-4b21-941d-9ca548199581",
        "colab": {
          "base_uri": "https://localhost:8080/"
        }
      },
      "execution_count": 24,
      "outputs": [
        {
          "output_type": "stream",
          "name": "stdout",
          "text": [
            "Average marke of three subjet is : 40.0\n"
          ]
        }
      ]
    },
    {
      "cell_type": "markdown",
      "source": [
        "# Bank Account\n"
      ],
      "metadata": {
        "id": "olYjQ_u__g0N"
      }
    },
    {
      "cell_type": "code",
      "source": [
        "class Bank:\n",
        "  def __init__(self,acc,amount):\n",
        "    self.acc=acc\n",
        "    self.amount=amount\n",
        "\n",
        "  def devit(self,x):\n",
        "    self.amount -= x\n",
        "    print(f\"Acount no {self.acc}\")\n",
        "    print(f\"Devit tk {x}\")\n",
        "    print(f\"New balance {self.amount}\\n\")\n",
        "\n",
        "  def credit(self,y):\n",
        "    self.amount += y\n",
        "    print(f\"Acount no {self.acc}\")\n",
        "    print(f\"Devit tk {y}\")\n",
        "    print(f\"New balance {self.amount}\\n\")\n",
        "\n",
        "  def balance(self):\n",
        "    print(f\"Account no {self.acc}\")\n",
        "    print(f\"{self.amount} tk on your account\\n\")\n",
        "\n",
        "person1=Bank(1,1000)\n",
        "person1.devit(500)\n",
        "person1.credit(200)\n",
        "\n",
        "person2=Bank(2,1500)\n",
        "person2.balance()\n",
        "\n"
      ],
      "metadata": {
        "id": "TsE-Tp6y5910",
        "outputId": "aef29416-d545-4ec7-91bb-8c1cc6e67950",
        "colab": {
          "base_uri": "https://localhost:8080/"
        }
      },
      "execution_count": 31,
      "outputs": [
        {
          "output_type": "stream",
          "name": "stdout",
          "text": [
            "Acount no 1\n",
            "Devit tk 500\n",
            "New balance 500\n",
            "\n",
            "Acount no 1\n",
            "Devit tk 200\n",
            "New balance 700\n",
            "\n",
            "Account no 2\n",
            "1500 tk on your account\n",
            "\n"
          ]
        }
      ]
    },
    {
      "cell_type": "code",
      "source": [],
      "metadata": {
        "id": "otlijYyhBNFZ"
      },
      "execution_count": null,
      "outputs": []
    }
  ],
  "metadata": {
    "colab": {
      "name": "Welcome To Colab",
      "provenance": [],
      "include_colab_link": true
    },
    "kernelspec": {
      "display_name": "Python 3",
      "name": "python3"
    }
  },
  "nbformat": 4,
  "nbformat_minor": 0
}